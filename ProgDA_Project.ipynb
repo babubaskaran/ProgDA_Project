{
 "cells": [
  {
   "cell_type": "markdown",
   "metadata": {},
   "source": [
    "# Type 1 Diabetes\n",
    "\n",
    "What is type 1 Diabetes\n",
    "\n",
    "Type 1 diabetes, once known as juvenile diabetes or insulin-dependent diabetes, is a chronic condition in which the pancreas produces little or no insulin. Insulin is a hormone needed to allow sugar (glucose) to enter cells to produce energy.  Treatment focuses on managing blood sugar levels with insulin, diet and lifestyle to prevent complications.  Who estimates that 347 million people wordwide have diabetes.  Type 1 diabetes  (TID) is characterized by absolute deficiency of insulin production, daily adminstration of insulin, and occurs in about 10% of the caes.  The cause of type 1 diabetes is not known and it is not preventable, according to current knowledge about the disease.  Good management of one's BG (Blood Glucose) levels makes living with diabetes much easier.\n",
    "\n",
    "\n",
    "By analysing the variable available of this are Blood Glucose level, Time of blood test, Carbs intake and Insulin dose.  The Blood Glucose level varies on different time of the day, Carbs intake and insulin dose level varies throughout the day.\n",
    "\n",
    "During the analysis I found that the factors affecting the Blood Glucose level mainly carbs(food eaten) by the child.  The other factors affecting this if the child is sick where physical activity is less the blood glucose level goes high.\n",
    "\n",
    "So let us use the below 8 different variables for our analysis.\n",
    "\n",
    "* Date & Time\n",
    "* Blood Glucose Result (BG mmol recorded on blood test meter)\n",
    "* Insulin Units (delivered to the child)\n",
    "* Carb Intake (food eaten in grams)\n",
    "* BG Level \n",
    "\n",
    "The Data that we will create with an algorithm, is based on the real life scenario of Type 1 Diabetes.\n",
    "\n",
    "For this project I have taken the Type 1 Diabetes log for 20 days from  01/10/2019 to 20/10/2019. Blood Glucose level has recorded on average 8 time a day for 20 days.  Based on this real-world phenomenon as a model to synthesise the data.\n",
    "\n",
    "# Data Cleanup\n",
    "\n",
    "Activities for data cleanup also considered, creating different data sets using them to make one data frame.  The values has been used for analysis.  The data indexed for easy retrivel.  Duplication of records removed.  Creating different data sets and appending them to make one Data Frame and updating the values to match expected value.  Generated different plots to explain how the data is trending.  The plots are generated are Scatter Plot, Box Plots showing the trends and relationship between the variables.\n",
    "\n",
    "# Distributions\n",
    "\n",
    "Simulated data has been used to explian the Normal Distribution and code written to do the calculations and plots/graphs generated from that.\n",
    "\n",
    "* Plotting Blood Glucose Result at varies times of the day with BG Level\n",
    "* Plotting Carbs Intake at varies times of the day and Blood Glucose level affected\n",
    "\n",
    "\n",
    "# Data Relationships\n",
    "\n",
    "* Comparison between Carbs eaten and Blood Glucose level\n",
    "* Time and Blood Glucose level\n",
    "* The main variable is Blood Glucose level both Hight & Lows.  This is varies for variable reasons time of the day, the person growth (day by day), food eaten 2 hours before the blood test.  The Blood Glucose tested on morning as fast on week days and weekends varies on time.  If the kid is very small its hard to control whats to eat and whats not to eat.  \n",
    "\n",
    "* The blood glucose level goes high for the following reasons.\n",
    "\n",
    "1) The Insulin didnt delivered properly to the body\n",
    "2) The Insulin dose is low for the carbs eaten\n",
    "3) Carb count is not correct\n",
    "4) If the Kid is sick\n",
    "\n",
    "* The blood Glucose level goes low for the following reasons.\n",
    "\n",
    "1) High Insulin delivered\n",
    "2) Food not eaten for the carb entered\n",
    "3) If the Kid is playing and active \n",
    "\n",
    "The week day blood glucose level stay stable compare to weekends, this is due to the fact the waking up time on weekends and eating breakfast is differs.\n",
    "\n",
    "I devise an algorithm to generate the data set, simulating values of the 4 variables for 20 days.  I detail all this work in my notebook, and added code to generate the data set with the above properties.\n",
    "\n",
    "The person Glucose sensitivity, which is the number of grams (carbs) that increase the blood glucose level by 1 mmol.  The calculation of Glucose Sensitivity is based upon body weight = 1 gram glucose will raise BG by (mmol).\n"
   ]
  },
  {
   "cell_type": "code",
   "execution_count": 133,
   "metadata": {},
   "outputs": [],
   "source": [
    "import numpy as np\n",
    "import pandas as pd\n",
    "import matplotlib.pyplot as plt\n",
    "import sklearn.neighbors as nei\n",
    "import sklearn.model_selection as mod\n",
    "from pandas.plotting import scatter_matrix"
   ]
  },
  {
   "cell_type": "code",
   "execution_count": 96,
   "metadata": {
    "scrolled": true
   },
   "outputs": [],
   "source": [
    "df=pd.read_csv(\"type1diabetes_data.csv\")"
   ]
  },
  {
   "cell_type": "code",
   "execution_count": 97,
   "metadata": {},
   "outputs": [
    {
     "data": {
      "text/html": [
       "<div>\n",
       "<style scoped>\n",
       "    .dataframe tbody tr th:only-of-type {\n",
       "        vertical-align: middle;\n",
       "    }\n",
       "\n",
       "    .dataframe tbody tr th {\n",
       "        vertical-align: top;\n",
       "    }\n",
       "\n",
       "    .dataframe thead th {\n",
       "        text-align: right;\n",
       "    }\n",
       "</style>\n",
       "<table border=\"1\" class=\"dataframe\">\n",
       "  <thead>\n",
       "    <tr style=\"text-align: right;\">\n",
       "      <th></th>\n",
       "      <th>Date</th>\n",
       "      <th>Time</th>\n",
       "      <th>BG_Result</th>\n",
       "      <th>Carb_Input</th>\n",
       "      <th>Insulin_Dose</th>\n",
       "      <th>Target</th>\n",
       "    </tr>\n",
       "  </thead>\n",
       "  <tbody>\n",
       "    <tr>\n",
       "      <th>0</th>\n",
       "      <td>01/09/2019</td>\n",
       "      <td>10:17:36</td>\n",
       "      <td>4.4</td>\n",
       "      <td>37.0</td>\n",
       "      <td>9.2</td>\n",
       "      <td>Normal</td>\n",
       "    </tr>\n",
       "    <tr>\n",
       "      <th>1</th>\n",
       "      <td>01/09/2019</td>\n",
       "      <td>13:47:10</td>\n",
       "      <td>4.1</td>\n",
       "      <td>70.0</td>\n",
       "      <td>3.5</td>\n",
       "      <td>Normal</td>\n",
       "    </tr>\n",
       "    <tr>\n",
       "      <th>2</th>\n",
       "      <td>01/09/2019</td>\n",
       "      <td>14:30:59</td>\n",
       "      <td>10.9</td>\n",
       "      <td>40.0</td>\n",
       "      <td>2.0</td>\n",
       "      <td>Normal</td>\n",
       "    </tr>\n",
       "    <tr>\n",
       "      <th>3</th>\n",
       "      <td>01/09/2019</td>\n",
       "      <td>15:46:50</td>\n",
       "      <td>15.5</td>\n",
       "      <td>22.0</td>\n",
       "      <td>1.1</td>\n",
       "      <td>High</td>\n",
       "    </tr>\n",
       "    <tr>\n",
       "      <th>4</th>\n",
       "      <td>01/09/2019</td>\n",
       "      <td>16:16:41</td>\n",
       "      <td>12.7</td>\n",
       "      <td>22.0</td>\n",
       "      <td>1.1</td>\n",
       "      <td>Normal</td>\n",
       "    </tr>\n",
       "    <tr>\n",
       "      <th>5</th>\n",
       "      <td>01/09/2019</td>\n",
       "      <td>16:21:12</td>\n",
       "      <td>10.3</td>\n",
       "      <td>10.0</td>\n",
       "      <td>0.5</td>\n",
       "      <td>Normal</td>\n",
       "    </tr>\n",
       "    <tr>\n",
       "      <th>6</th>\n",
       "      <td>01/09/2019</td>\n",
       "      <td>17:08:39</td>\n",
       "      <td>4.8</td>\n",
       "      <td>11.0</td>\n",
       "      <td>0.6</td>\n",
       "      <td>Normal</td>\n",
       "    </tr>\n",
       "    <tr>\n",
       "      <th>7</th>\n",
       "      <td>01/09/2019</td>\n",
       "      <td>17:32:10</td>\n",
       "      <td>9.2</td>\n",
       "      <td>10.0</td>\n",
       "      <td>0.5</td>\n",
       "      <td>Normal</td>\n",
       "    </tr>\n",
       "    <tr>\n",
       "      <th>8</th>\n",
       "      <td>01/09/2019</td>\n",
       "      <td>19:36:07</td>\n",
       "      <td>11.9</td>\n",
       "      <td>10.0</td>\n",
       "      <td>0.5</td>\n",
       "      <td>Normal</td>\n",
       "    </tr>\n",
       "    <tr>\n",
       "      <th>9</th>\n",
       "      <td>01/09/2019</td>\n",
       "      <td>20:44:30</td>\n",
       "      <td>11.8</td>\n",
       "      <td>40.0</td>\n",
       "      <td>2.2</td>\n",
       "      <td>Normal</td>\n",
       "    </tr>\n",
       "  </tbody>\n",
       "</table>\n",
       "</div>"
      ],
      "text/plain": [
       "         Date      Time   BG_Result   Carb_Input   Insulin_Dose  Target\n",
       "0  01/09/2019  10:17:36         4.4         37.0            9.2  Normal\n",
       "1  01/09/2019  13:47:10         4.1         70.0            3.5  Normal\n",
       "2  01/09/2019  14:30:59        10.9         40.0            2.0  Normal\n",
       "3  01/09/2019  15:46:50        15.5         22.0            1.1    High\n",
       "4  01/09/2019  16:16:41        12.7         22.0            1.1  Normal\n",
       "5  01/09/2019  16:21:12        10.3         10.0            0.5  Normal\n",
       "6  01/09/2019  17:08:39         4.8         11.0            0.6  Normal\n",
       "7  01/09/2019  17:32:10         9.2         10.0            0.5  Normal\n",
       "8  01/09/2019  19:36:07        11.9         10.0            0.5  Normal\n",
       "9  01/09/2019  20:44:30        11.8         40.0            2.2  Normal"
      ]
     },
     "execution_count": 97,
     "metadata": {},
     "output_type": "execute_result"
    }
   ],
   "source": [
    "df.head(10)"
   ]
  },
  {
   "cell_type": "code",
   "execution_count": 56,
   "metadata": {},
   "outputs": [
    {
     "data": {
      "text/html": [
       "<div>\n",
       "<style scoped>\n",
       "    .dataframe tbody tr th:only-of-type {\n",
       "        vertical-align: middle;\n",
       "    }\n",
       "\n",
       "    .dataframe tbody tr th {\n",
       "        vertical-align: top;\n",
       "    }\n",
       "\n",
       "    .dataframe thead th {\n",
       "        text-align: right;\n",
       "    }\n",
       "</style>\n",
       "<table border=\"1\" class=\"dataframe\">\n",
       "  <thead>\n",
       "    <tr style=\"text-align: right;\">\n",
       "      <th></th>\n",
       "      <th>BG_Result</th>\n",
       "      <th>Carb_Input</th>\n",
       "      <th>Insulin_Dose</th>\n",
       "    </tr>\n",
       "  </thead>\n",
       "  <tbody>\n",
       "    <tr>\n",
       "      <th>count</th>\n",
       "      <td>273.000000</td>\n",
       "      <td>262.000000</td>\n",
       "      <td>262.000000</td>\n",
       "    </tr>\n",
       "    <tr>\n",
       "      <th>mean</th>\n",
       "      <td>10.673993</td>\n",
       "      <td>27.259542</td>\n",
       "      <td>2.301145</td>\n",
       "    </tr>\n",
       "    <tr>\n",
       "      <th>std</th>\n",
       "      <td>5.234714</td>\n",
       "      <td>21.154635</td>\n",
       "      <td>2.828826</td>\n",
       "    </tr>\n",
       "    <tr>\n",
       "      <th>min</th>\n",
       "      <td>2.200000</td>\n",
       "      <td>0.000000</td>\n",
       "      <td>0.000000</td>\n",
       "    </tr>\n",
       "    <tr>\n",
       "      <th>25%</th>\n",
       "      <td>6.300000</td>\n",
       "      <td>12.000000</td>\n",
       "      <td>0.600000</td>\n",
       "    </tr>\n",
       "    <tr>\n",
       "      <th>50%</th>\n",
       "      <td>10.000000</td>\n",
       "      <td>23.500000</td>\n",
       "      <td>1.550000</td>\n",
       "    </tr>\n",
       "    <tr>\n",
       "      <th>75%</th>\n",
       "      <td>13.400000</td>\n",
       "      <td>42.000000</td>\n",
       "      <td>2.675000</td>\n",
       "    </tr>\n",
       "    <tr>\n",
       "      <th>max</th>\n",
       "      <td>30.100000</td>\n",
       "      <td>90.000000</td>\n",
       "      <td>16.000000</td>\n",
       "    </tr>\n",
       "  </tbody>\n",
       "</table>\n",
       "</div>"
      ],
      "text/plain": [
       "        BG_Result   Carb_Input   Insulin_Dose\n",
       "count  273.000000   262.000000     262.000000\n",
       "mean    10.673993    27.259542       2.301145\n",
       "std      5.234714    21.154635       2.828826\n",
       "min      2.200000     0.000000       0.000000\n",
       "25%      6.300000    12.000000       0.600000\n",
       "50%     10.000000    23.500000       1.550000\n",
       "75%     13.400000    42.000000       2.675000\n",
       "max     30.100000    90.000000      16.000000"
      ]
     },
     "execution_count": 56,
     "metadata": {},
     "output_type": "execute_result"
    }
   ],
   "source": [
    "df.describe()"
   ]
  },
  {
   "cell_type": "markdown",
   "metadata": {},
   "source": [
    "Glucose Sensitivity in mmol/L per gram of carbs increases the 1 mmol of blood glucose.  The Blood Glucose level deecreases, increases or stay same based on mainly 2 factors.  Insulin units taken before "
   ]
  },
  {
   "cell_type": "code",
   "execution_count": 26,
   "metadata": {},
   "outputs": [],
   "source": [
    "import pandas as pd\n",
    "rng = pd.date_range('1/1/2020', periods=720, freq='H')"
   ]
  },
  {
   "cell_type": "code",
   "execution_count": 27,
   "metadata": {},
   "outputs": [],
   "source": [
    "import numpy as np\n",
    "import pandas as pd"
   ]
  },
  {
   "cell_type": "code",
   "execution_count": 64,
   "metadata": {},
   "outputs": [],
   "source": [
    "#ts = pd.Series(np.random.randn(len(rng)), index=rng)\n",
    "BG_Result = (np.around(pd.Series(np.random.uniform(2,19,len(rng)), index=rng),1))\n",
    "\n",
    "#arr1 = np.around(np.random.uniform(2.2,3.9,14),1)\n",
    "#ts = pd.Series(index=rng)\n",
    "#xy = np.array(ts.values.tolist())"
   ]
  },
  {
   "cell_type": "code",
   "execution_count": 65,
   "metadata": {},
   "outputs": [
    {
     "data": {
      "text/plain": [
       "2020-01-01 00:00:00    14.5\n",
       "2020-01-01 01:00:00     7.9\n",
       "2020-01-01 02:00:00     5.1\n",
       "2020-01-01 03:00:00     9.0\n",
       "2020-01-01 04:00:00    15.9\n",
       "2020-01-01 05:00:00    16.6\n",
       "2020-01-01 06:00:00    17.2\n",
       "2020-01-01 07:00:00     2.9\n",
       "2020-01-01 08:00:00    14.7\n",
       "2020-01-01 09:00:00     7.5\n",
       "2020-01-01 10:00:00     3.8\n",
       "2020-01-01 11:00:00    11.9\n",
       "2020-01-01 12:00:00     4.8\n",
       "2020-01-01 13:00:00    10.4\n",
       "2020-01-01 14:00:00     8.9\n",
       "2020-01-01 15:00:00     2.1\n",
       "2020-01-01 16:00:00     6.7\n",
       "2020-01-01 17:00:00    15.7\n",
       "2020-01-01 18:00:00     7.1\n",
       "2020-01-01 19:00:00     5.1\n",
       "2020-01-01 20:00:00     2.7\n",
       "2020-01-01 21:00:00    13.9\n",
       "2020-01-01 22:00:00    15.4\n",
       "2020-01-01 23:00:00    18.8\n",
       "2020-01-02 00:00:00     5.7\n",
       "2020-01-02 01:00:00     5.6\n",
       "2020-01-02 02:00:00    11.0\n",
       "2020-01-02 03:00:00    17.1\n",
       "2020-01-02 04:00:00    12.8\n",
       "2020-01-02 05:00:00    14.4\n",
       "                       ... \n",
       "2020-01-29 18:00:00     8.1\n",
       "2020-01-29 19:00:00    16.3\n",
       "2020-01-29 20:00:00     3.9\n",
       "2020-01-29 21:00:00     7.9\n",
       "2020-01-29 22:00:00    17.9\n",
       "2020-01-29 23:00:00     8.6\n",
       "2020-01-30 00:00:00     4.1\n",
       "2020-01-30 01:00:00     7.7\n",
       "2020-01-30 02:00:00    17.9\n",
       "2020-01-30 03:00:00    17.1\n",
       "2020-01-30 04:00:00     7.8\n",
       "2020-01-30 05:00:00     2.9\n",
       "2020-01-30 06:00:00     6.5\n",
       "2020-01-30 07:00:00    15.9\n",
       "2020-01-30 08:00:00     9.4\n",
       "2020-01-30 09:00:00     6.3\n",
       "2020-01-30 10:00:00     5.0\n",
       "2020-01-30 11:00:00     6.9\n",
       "2020-01-30 12:00:00     3.3\n",
       "2020-01-30 13:00:00    16.6\n",
       "2020-01-30 14:00:00    17.3\n",
       "2020-01-30 15:00:00    18.3\n",
       "2020-01-30 16:00:00     7.7\n",
       "2020-01-30 17:00:00     6.9\n",
       "2020-01-30 18:00:00     3.7\n",
       "2020-01-30 19:00:00    17.3\n",
       "2020-01-30 20:00:00     4.2\n",
       "2020-01-30 21:00:00     3.6\n",
       "2020-01-30 22:00:00     3.2\n",
       "2020-01-30 23:00:00    18.3\n",
       "Freq: H, Length: 720, dtype: float64"
      ]
     },
     "execution_count": 65,
     "metadata": {},
     "output_type": "execute_result"
    }
   ],
   "source": [
    "BG_Result"
   ]
  },
  {
   "cell_type": "code",
   "execution_count": 63,
   "metadata": {
    "scrolled": true
   },
   "outputs": [
    {
     "data": {
      "text/plain": [
       "2020-01-01 00:00:00    15.2\n",
       "2020-01-01 01:00:00    10.2\n",
       "2020-01-01 02:00:00    14.4\n",
       "2020-01-01 03:00:00    17.8\n",
       "2020-01-01 04:00:00    16.7\n",
       "2020-01-01 05:00:00     2.9\n",
       "2020-01-01 06:00:00     3.1\n",
       "2020-01-01 07:00:00    18.4\n",
       "2020-01-01 08:00:00     3.2\n",
       "2020-01-01 09:00:00    15.6\n",
       "Freq: H, dtype: float64"
      ]
     },
     "execution_count": 63,
     "metadata": {},
     "output_type": "execute_result"
    }
   ],
   "source": [
    "ts.head(10)"
   ]
  },
  {
   "cell_type": "code",
   "execution_count": 81,
   "metadata": {},
   "outputs": [],
   "source": [
    "Carbs = (np.around(pd.Series(np.random.uniform(9,45,720)),1))"
   ]
  },
  {
   "cell_type": "code",
   "execution_count": 83,
   "metadata": {},
   "outputs": [
    {
     "data": {
      "text/plain": [
       "0    37.2\n",
       "1    36.4\n",
       "2    30.1\n",
       "3    33.0\n",
       "4    36.7\n",
       "5    16.6\n",
       "6    34.7\n",
       "7    23.2\n",
       "8    18.1\n",
       "9    14.1\n",
       "dtype: float64"
      ]
     },
     "execution_count": 83,
     "metadata": {},
     "output_type": "execute_result"
    }
   ],
   "source": [
    "Carbs.head(10)"
   ]
  },
  {
   "cell_type": "code",
   "execution_count": 102,
   "metadata": {},
   "outputs": [],
   "source": [
    "# creating set of data frame\n",
    "df = pd.DataFrame(Carbs)\n",
    "#df = df.append(Carbs, ignore_index=True)"
   ]
  },
  {
   "cell_type": "code",
   "execution_count": 120,
   "metadata": {},
   "outputs": [],
   "source": [
    "Insulin_Dose = ((Carbs) / 12)"
   ]
  },
  {
   "cell_type": "code",
   "execution_count": 121,
   "metadata": {},
   "outputs": [
    {
     "data": {
      "text/plain": [
       "0      3.100000\n",
       "1      3.033333\n",
       "2      2.508333\n",
       "3      2.750000\n",
       "4      3.058333\n",
       "5      1.383333\n",
       "6      2.891667\n",
       "7      1.933333\n",
       "8      1.508333\n",
       "9      1.175000\n",
       "10     2.066667\n",
       "11     2.558333\n",
       "12     2.508333\n",
       "13     3.625000\n",
       "14     1.341667\n",
       "15     3.716667\n",
       "16     2.783333\n",
       "17     3.666667\n",
       "18     1.941667\n",
       "19     0.966667\n",
       "20     1.200000\n",
       "21     3.500000\n",
       "22     1.916667\n",
       "23     2.516667\n",
       "24     1.391667\n",
       "25     1.316667\n",
       "26     3.566667\n",
       "27     0.875000\n",
       "28     0.966667\n",
       "29     3.433333\n",
       "         ...   \n",
       "690    2.400000\n",
       "691    2.716667\n",
       "692    2.741667\n",
       "693    1.433333\n",
       "694    3.366667\n",
       "695    3.741667\n",
       "696    1.225000\n",
       "697    1.733333\n",
       "698    1.416667\n",
       "699    2.041667\n",
       "700    2.008333\n",
       "701    3.341667\n",
       "702    1.933333\n",
       "703    3.208333\n",
       "704    0.916667\n",
       "705    1.691667\n",
       "706    2.716667\n",
       "707    1.875000\n",
       "708    2.991667\n",
       "709    3.691667\n",
       "710    1.600000\n",
       "711    3.125000\n",
       "712    2.991667\n",
       "713    1.675000\n",
       "714    3.666667\n",
       "715    3.466667\n",
       "716    1.008333\n",
       "717    0.850000\n",
       "718    2.458333\n",
       "719    3.241667\n",
       "Length: 720, dtype: float64"
      ]
     },
     "execution_count": 121,
     "metadata": {},
     "output_type": "execute_result"
    }
   ],
   "source": [
    "Insulin_Dose"
   ]
  },
  {
   "cell_type": "code",
   "execution_count": 128,
   "metadata": {},
   "outputs": [
    {
     "name": "stdout",
     "output_type": "stream",
     "text": [
      "high\n"
     ]
    }
   ],
   "source": [
    "if len(BG_Result) < 4:\n",
    "    print(\"low\")\n",
    "else:\n",
    "    print(\"high\")\n",
    "    \n",
    "#if len(BG_Result) < 4:\n",
    "#    print(\"Balance is below 0, add funds now or you will be charged a penalty.\")"
   ]
  },
  {
   "cell_type": "code",
   "execution_count": 53,
   "metadata": {},
   "outputs": [
    {
     "data": {
      "text/plain": [
       "<seaborn.axisgrid.PairGrid at 0xf45d940>"
      ]
     },
     "execution_count": 53,
     "metadata": {},
     "output_type": "execute_result"
    },
    {
     "data": {
      "image/png": "[encoded data removed]",
      "text/plain": [
       "<Figure size 612.25x540 with 12 Axes>"
      ]
     },
     "metadata": {
      "needs_background": "light"
     },
     "output_type": "display_data"
    }
   ],
   "source": [
    "import seaborn as sns\n",
    "sns.pairplot(df,hue=\"Target\")"
   ]
  },
  {
   "cell_type": "code",
   "execution_count": 130,
   "metadata": {
    "scrolled": true
   },
   "outputs": [],
   "source": [
    "import sklearn.neighbors as nei\n",
    "#inputs1=df[['BG_Result','Carb_Input','Insulin_Dose']]\n",
    "#outputs1=df['Target']"
   ]
  },
  {
   "cell_type": "code",
   "execution_count": null,
   "metadata": {},
   "outputs": [],
   "source": [
    "import sklearn.neighbors as nei\n",
    "knn = nei.KNeighborsClassifier(n_neighbors=5)\n",
    "knn.fit(inputs1, outputs1)"
   ]
  },
  {
   "cell_type": "code",
   "execution_count": null,
   "metadata": {},
   "outputs": [],
   "source": [
    "(knn.predict(inputs1)== outputs1).sum()"
   ]
  },
  {
   "cell_type": "code",
   "execution_count": 46,
   "metadata": {},
   "outputs": [],
   "source": [
    "inputs_train, inputs_test, outputs_train, outputs_test = mod.train_test_split(inputs1,outputs1,test_size=0.33)"
   ]
  },
  {
   "cell_type": "markdown",
   "metadata": {},
   "source": [
    "# Setting up variables for data frame creation."
   ]
  },
  {
   "cell_type": "markdown",
   "metadata": {},
   "source": [
    "In the above the 5.8 is the ideal bg level and between 5.8 to 14 is normal level and anything above 14 is considered high."
   ]
  },
  {
   "cell_type": "code",
   "execution_count": 49,
   "metadata": {},
   "outputs": [
    {
     "data": {
      "text/html": [
       "<div>\n",
       "<style scoped>\n",
       "    .dataframe tbody tr th:only-of-type {\n",
       "        vertical-align: middle;\n",
       "    }\n",
       "\n",
       "    .dataframe tbody tr th {\n",
       "        vertical-align: top;\n",
       "    }\n",
       "\n",
       "    .dataframe thead th {\n",
       "        text-align: right;\n",
       "    }\n",
       "</style>\n",
       "<table border=\"1\" class=\"dataframe\">\n",
       "  <thead>\n",
       "    <tr style=\"text-align: right;\">\n",
       "      <th></th>\n",
       "      <th>Date_Time</th>\n",
       "      <th>BG_Result</th>\n",
       "      <th>Insulin_Delivered</th>\n",
       "      <th>Carb_Input</th>\n",
       "      <th>Target</th>\n",
       "    </tr>\n",
       "  </thead>\n",
       "  <tbody>\n",
       "    <tr>\n",
       "      <td>0</td>\n",
       "      <td>01/10/2019 05:45</td>\n",
       "      <td>12.1</td>\n",
       "      <td>0.9</td>\n",
       "      <td>0</td>\n",
       "      <td>Above</td>\n",
       "    </tr>\n",
       "    <tr>\n",
       "      <td>1</td>\n",
       "      <td>01/10/2019 07:58</td>\n",
       "      <td>0.0</td>\n",
       "      <td>10.5</td>\n",
       "      <td>42</td>\n",
       "      <td>Carbs_Insulin</td>\n",
       "    </tr>\n",
       "    <tr>\n",
       "      <td>2</td>\n",
       "      <td>01/10/2019 11:02</td>\n",
       "      <td>13.4</td>\n",
       "      <td>0.6</td>\n",
       "      <td>13</td>\n",
       "      <td>Above</td>\n",
       "    </tr>\n",
       "    <tr>\n",
       "      <td>3</td>\n",
       "      <td>01/10/2019 13:07</td>\n",
       "      <td>11.9</td>\n",
       "      <td>2.2</td>\n",
       "      <td>33</td>\n",
       "      <td>Above</td>\n",
       "    </tr>\n",
       "    <tr>\n",
       "      <td>4</td>\n",
       "      <td>01/10/2019 15:36</td>\n",
       "      <td>12.0</td>\n",
       "      <td>2.2</td>\n",
       "      <td>40</td>\n",
       "      <td>Above</td>\n",
       "    </tr>\n",
       "  </tbody>\n",
       "</table>\n",
       "</div>"
      ],
      "text/plain": [
       "          Date_Time  BG_Result  Insulin_Delivered  Carb_Input         Target\n",
       "0  01/10/2019 05:45       12.1                0.9           0          Above\n",
       "1  01/10/2019 07:58        0.0               10.5          42  Carbs_Insulin\n",
       "2  01/10/2019 11:02       13.4                0.6          13          Above\n",
       "3  01/10/2019 13:07       11.9                2.2          33          Above\n",
       "4  01/10/2019 15:36       12.0                2.2          40          Above"
      ]
     },
     "execution_count": 49,
     "metadata": {},
     "output_type": "execute_result"
    }
   ],
   "source": [
    "df.head()       "
   ]
  },
  {
   "cell_type": "code",
   "execution_count": 35,
   "metadata": {},
   "outputs": [
    {
     "data": {
      "text/html": [
       "<div>\n",
       "<style scoped>\n",
       "    .dataframe tbody tr th:only-of-type {\n",
       "        vertical-align: middle;\n",
       "    }\n",
       "\n",
       "    .dataframe tbody tr th {\n",
       "        vertical-align: top;\n",
       "    }\n",
       "\n",
       "    .dataframe thead th {\n",
       "        text-align: right;\n",
       "    }\n",
       "</style>\n",
       "<table border=\"1\" class=\"dataframe\">\n",
       "  <thead>\n",
       "    <tr style=\"text-align: right;\">\n",
       "      <th></th>\n",
       "      <th>BG_Result</th>\n",
       "      <th>Carb_Input</th>\n",
       "      <th>Insulin_Dose</th>\n",
       "    </tr>\n",
       "  </thead>\n",
       "  <tbody>\n",
       "    <tr>\n",
       "      <th>count</th>\n",
       "      <td>273.000000</td>\n",
       "      <td>262.000000</td>\n",
       "      <td>262.000000</td>\n",
       "    </tr>\n",
       "    <tr>\n",
       "      <th>mean</th>\n",
       "      <td>10.673993</td>\n",
       "      <td>27.259542</td>\n",
       "      <td>2.301145</td>\n",
       "    </tr>\n",
       "    <tr>\n",
       "      <th>std</th>\n",
       "      <td>5.234714</td>\n",
       "      <td>21.154635</td>\n",
       "      <td>2.828826</td>\n",
       "    </tr>\n",
       "    <tr>\n",
       "      <th>min</th>\n",
       "      <td>2.200000</td>\n",
       "      <td>0.000000</td>\n",
       "      <td>0.000000</td>\n",
       "    </tr>\n",
       "    <tr>\n",
       "      <th>25%</th>\n",
       "      <td>6.300000</td>\n",
       "      <td>12.000000</td>\n",
       "      <td>0.600000</td>\n",
       "    </tr>\n",
       "    <tr>\n",
       "      <th>50%</th>\n",
       "      <td>10.000000</td>\n",
       "      <td>23.500000</td>\n",
       "      <td>1.550000</td>\n",
       "    </tr>\n",
       "    <tr>\n",
       "      <th>75%</th>\n",
       "      <td>13.400000</td>\n",
       "      <td>42.000000</td>\n",
       "      <td>2.675000</td>\n",
       "    </tr>\n",
       "    <tr>\n",
       "      <th>max</th>\n",
       "      <td>30.100000</td>\n",
       "      <td>90.000000</td>\n",
       "      <td>16.000000</td>\n",
       "    </tr>\n",
       "  </tbody>\n",
       "</table>\n",
       "</div>"
      ],
      "text/plain": [
       "        BG_Result   Carb_Input   Insulin_Dose\n",
       "count  273.000000   262.000000     262.000000\n",
       "mean    10.673993    27.259542       2.301145\n",
       "std      5.234714    21.154635       2.828826\n",
       "min      2.200000     0.000000       0.000000\n",
       "25%      6.300000    12.000000       0.600000\n",
       "50%     10.000000    23.500000       1.550000\n",
       "75%     13.400000    42.000000       2.675000\n",
       "max     30.100000    90.000000      16.000000"
      ]
     },
     "execution_count": 35,
     "metadata": {},
     "output_type": "execute_result"
    }
   ],
   "source": [
    "df.describe()"
   ]
  },
  {
   "cell_type": "code",
   "execution_count": 134,
   "metadata": {
    "scrolled": true
   },
   "outputs": [
    {
     "data": {
      "text/plain": [
       "array([[<matplotlib.axes._subplots.AxesSubplot object at 0x000000000C964BE0>]],\n",
       "      dtype=object)"
      ]
     },
     "execution_count": 134,
     "metadata": {},
     "output_type": "execute_result"
    },
    {
     "data": {
      "image/png": "[encoded data removed]",
      "text/plain": [
       "<Figure size 1080x720 with 1 Axes>"
      ]
     },
     "metadata": {
      "needs_background": "light"
     },
     "output_type": "display_data"
    }
   ],
   "source": [
    "# Scatter plot of the full data \n",
    "scatter_matrix(df,figsize = (15,10))"
   ]
  },
  {
   "cell_type": "code",
   "execution_count": 1,
   "metadata": {},
   "outputs": [],
   "source": [
    "# Plotting the normal distribution of Carbohydrates to calculate the rise in the blood glucose "
   ]
  },
  {
   "cell_type": "markdown",
   "metadata": {},
   "source": [
    "# Reference\n",
    "\n",
    "https://carelink.minimed.eu/patient/main/proReports.do\n",
    "\n",
    "http://en.wikipedia.org/wiki/Normal_distribution\n",
    "\n",
    "https://www.webmd.com/diabetes/qa/what-are-normal-blood-sugar-levels\n",
    "\n",
    "https://stackoverflow.com/\n",
    "\n"
   ]
  }
 ],
 "metadata": {
  "kernelspec": {
   "display_name": "Python 3",
   "language": "python",
   "name": "python3"
  },
  "language_info": {
   "codemirror_mode": {
    "name": "ipython",
    "version": 3
   },
   "file_extension": ".py",
   "mimetype": "text/x-python",
   "name": "python",
   "nbconvert_exporter": "python",
   "pygments_lexer": "ipython3",
   "version": "3.7.1"
  }
 },
 "nbformat": 4,
 "nbformat_minor": 2
}
