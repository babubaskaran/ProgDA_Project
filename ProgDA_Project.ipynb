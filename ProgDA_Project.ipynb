{
 "cells": [
  {
   "cell_type": "markdown",
   "metadata": {},
   "source": [
    "# Type 1 Diabetes\n",
    "\n",
    "What is type 1 Diabetes\n",
    "\n",
    "Type 1 diabetes, once known as juvenile diabetes or insulin-dependent diabetes, is a chronic condition in which the pancreas produces little or no insulin. Insulin is a hormone needed to allow sugar (glucose) to enter cells to produce energy.  Treatment focuses on managing blood sugar levels with insulin, diet and lifestyle to prevent complications.  Who estimates that 347 million people wordwide have diabetes.  Type 1 diabetes  (TID) is characterized by absolute deficiency of insulin production, daily adminstration of insulin, and occurs in about 10% of the caes.  The cause of type 1 diabetes is not known and it is not preventable, according to current knowledge about the disease.  Good management of one's BG (Blood Glucose) levels makes living with diabetes much easier.\n",
    "\n",
    "\n",
    "By analysing the variable available of this are Blood Glucose level, Time of blood test, Carbs intake and Insulin dose.  The Blood Glucose level varies on different time of the day, Carbs intake and insulin dose level varies throughout the day.\n",
    "\n",
    "During the analysis I found that the factors affecting the Blood Glucose level mainly carbs(food eaten) by the child.  The other factors affecting this if the child is sick where physical activity is less the blood glucose level goes high.\n",
    "\n",
    "So let us use the below 8 different variables for our analysis.\n",
    "\n",
    "* Date & Time\n",
    "* Blood Glucose Result (BG mmol recorded on blood test meter)\n",
    "* Insulin Units (delivered to the child)\n",
    "* Carb Intake (food eaten in grams)\n",
    "* BG Level \n",
    "\n",
    "The Data that we will create with an algorithm, is based on the real life scenario of Type 1 Diabetes.\n",
    "\n",
    "For this project I have taken the Type 1 Diabetes log for 20 days from  01/10/2019 to 20/10/2019. Blood Glucose level has recorded on average 8 time a day for 20 days.  Based on this real-world phenomenon as a model to synthesise the data.\n",
    "\n",
    "# Data Cleanup\n",
    "\n",
    "Activities for data cleanup also considered, creating different data sets using them to make one data frame.  The values has been used for analysis.  The data indexed for easy retrivel.  Duplication of records removed.  Creating different data sets and appending them to make one Data Frame and updating the values to match expected value.  Generated different plots to explain how the data is trending.  The plots are generated are Scatter Plot, Box Plots showing the trends and relationship between the variables.\n",
    "\n",
    "# Distributions\n",
    "\n",
    "Simulated data has been used to explian the Normal Distribution and code written to do the calculations and plots/graphs generated from that.\n",
    "\n",
    "* Plotting Blood Glucose Result at varies times of the day with BG Level\n",
    "* Plotting Carbs Intake at varies times of the day and Blood Glucose level affected\n",
    "\n",
    "\n",
    "# Data Relationships\n",
    "\n",
    "* Comparison between Carbs eaten and Blood Glucose level\n",
    "* Time and Blood Glucose level\n",
    "* The main variable is Blood Glucose level both Hight & Lows.  This is varies for variable reasons time of the day, the person growth (day by day), food eaten 2 hours before the blood test.  The Blood Glucose tested on morning as fast on week days and weekends varies on time.  If the kid is very small its hard to control whats to eat and whats not to eat.  \n",
    "\n",
    "* The blood glucose level goes high for the following reasons.\n",
    "\n",
    "1) The Insulin didnt delivered properly to the body\n",
    "2) The Insulin dose is low for the carbs eaten\n",
    "3) Carb count is not correct\n",
    "4) If the Kid is sick\n",
    "\n",
    "* The blood Glucose level goes low for the following reasons.\n",
    "\n",
    "1) High Insulin delivered\n",
    "2) Food not eaten for the carb entered\n",
    "3) If the Kid is playing and active \n",
    "\n",
    "The week day blood glucose level stay stable compare to weekends, this is due to the fact the waking up time on weekends and eating breakfast is differs.\n",
    "\n",
    "I devise an algorithm to generate the data set, simulating values of the 4 variables for 20 days.  I detail all this work in my notebook, and added code to generate the data set with the above properties.\n",
    "\n",
    "The person Glucose sensitivity, which is the number of grams (carbs) that increase the blood glucose level by 1 mmol.  The calculation of Glucose Sensitivity is based upon body weight = 1 gram glucose will raise BG by (mmol).\n"
   ]
  },
  {
   "cell_type": "code",
   "execution_count": 20,
   "metadata": {},
   "outputs": [],
   "source": [
    "import numpy as np\n",
    "import pandas as pd\n",
    "import matplotlib.pyplot as plt\n",
    "import sklearn.neighbors as nei\n",
    "import sklearn.model_selection as mod\n",
    "from pandas.plotting import scatter_matrix"
   ]
  },
  {
   "cell_type": "code",
   "execution_count": 41,
   "metadata": {
    "scrolled": true
   },
   "outputs": [],
   "source": [
    "df=pd.read_csv(\"type1diabetes_data.csv\")"
   ]
  },
  {
   "cell_type": "code",
   "execution_count": 42,
   "metadata": {},
   "outputs": [
    {
     "data": {
      "text/html": [
       "<div>\n",
       "<style scoped>\n",
       "    .dataframe tbody tr th:only-of-type {\n",
       "        vertical-align: middle;\n",
       "    }\n",
       "\n",
       "    .dataframe tbody tr th {\n",
       "        vertical-align: top;\n",
       "    }\n",
       "\n",
       "    .dataframe thead th {\n",
       "        text-align: right;\n",
       "    }\n",
       "</style>\n",
       "<table border=\"1\" class=\"dataframe\">\n",
       "  <thead>\n",
       "    <tr style=\"text-align: right;\">\n",
       "      <th></th>\n",
       "      <th>Date</th>\n",
       "      <th>Time</th>\n",
       "      <th>BG_Result</th>\n",
       "      <th>Carb_Input</th>\n",
       "      <th>Insulin_Dose</th>\n",
       "      <th>Target</th>\n",
       "    </tr>\n",
       "  </thead>\n",
       "  <tbody>\n",
       "    <tr>\n",
       "      <th>0</th>\n",
       "      <td>01/09/2019</td>\n",
       "      <td>10:17:36</td>\n",
       "      <td>4.4</td>\n",
       "      <td>37.0</td>\n",
       "      <td>9.2</td>\n",
       "      <td>Normal</td>\n",
       "    </tr>\n",
       "    <tr>\n",
       "      <th>1</th>\n",
       "      <td>01/09/2019</td>\n",
       "      <td>13:47:10</td>\n",
       "      <td>4.1</td>\n",
       "      <td>70.0</td>\n",
       "      <td>3.5</td>\n",
       "      <td>Normal</td>\n",
       "    </tr>\n",
       "    <tr>\n",
       "      <th>2</th>\n",
       "      <td>01/09/2019</td>\n",
       "      <td>14:30:59</td>\n",
       "      <td>10.9</td>\n",
       "      <td>40.0</td>\n",
       "      <td>2.0</td>\n",
       "      <td>Normal</td>\n",
       "    </tr>\n",
       "    <tr>\n",
       "      <th>3</th>\n",
       "      <td>01/09/2019</td>\n",
       "      <td>15:46:50</td>\n",
       "      <td>15.5</td>\n",
       "      <td>22.0</td>\n",
       "      <td>1.1</td>\n",
       "      <td>High</td>\n",
       "    </tr>\n",
       "    <tr>\n",
       "      <th>4</th>\n",
       "      <td>01/09/2019</td>\n",
       "      <td>16:16:41</td>\n",
       "      <td>12.7</td>\n",
       "      <td>22.0</td>\n",
       "      <td>1.1</td>\n",
       "      <td>Normal</td>\n",
       "    </tr>\n",
       "    <tr>\n",
       "      <th>5</th>\n",
       "      <td>01/09/2019</td>\n",
       "      <td>16:21:12</td>\n",
       "      <td>10.3</td>\n",
       "      <td>10.0</td>\n",
       "      <td>0.5</td>\n",
       "      <td>Normal</td>\n",
       "    </tr>\n",
       "    <tr>\n",
       "      <th>6</th>\n",
       "      <td>01/09/2019</td>\n",
       "      <td>17:08:39</td>\n",
       "      <td>4.8</td>\n",
       "      <td>11.0</td>\n",
       "      <td>0.6</td>\n",
       "      <td>Normal</td>\n",
       "    </tr>\n",
       "    <tr>\n",
       "      <th>7</th>\n",
       "      <td>01/09/2019</td>\n",
       "      <td>17:32:10</td>\n",
       "      <td>9.2</td>\n",
       "      <td>10.0</td>\n",
       "      <td>0.5</td>\n",
       "      <td>Normal</td>\n",
       "    </tr>\n",
       "    <tr>\n",
       "      <th>8</th>\n",
       "      <td>01/09/2019</td>\n",
       "      <td>19:36:07</td>\n",
       "      <td>11.9</td>\n",
       "      <td>10.0</td>\n",
       "      <td>0.5</td>\n",
       "      <td>Normal</td>\n",
       "    </tr>\n",
       "    <tr>\n",
       "      <th>9</th>\n",
       "      <td>01/09/2019</td>\n",
       "      <td>20:44:30</td>\n",
       "      <td>11.8</td>\n",
       "      <td>40.0</td>\n",
       "      <td>2.2</td>\n",
       "      <td>Normal</td>\n",
       "    </tr>\n",
       "  </tbody>\n",
       "</table>\n",
       "</div>"
      ],
      "text/plain": [
       "         Date      Time   BG_Result   Carb_Input   Insulin_Dose  Target\n",
       "0  01/09/2019  10:17:36         4.4         37.0            9.2  Normal\n",
       "1  01/09/2019  13:47:10         4.1         70.0            3.5  Normal\n",
       "2  01/09/2019  14:30:59        10.9         40.0            2.0  Normal\n",
       "3  01/09/2019  15:46:50        15.5         22.0            1.1    High\n",
       "4  01/09/2019  16:16:41        12.7         22.0            1.1  Normal\n",
       "5  01/09/2019  16:21:12        10.3         10.0            0.5  Normal\n",
       "6  01/09/2019  17:08:39         4.8         11.0            0.6  Normal\n",
       "7  01/09/2019  17:32:10         9.2         10.0            0.5  Normal\n",
       "8  01/09/2019  19:36:07        11.9         10.0            0.5  Normal\n",
       "9  01/09/2019  20:44:30        11.8         40.0            2.2  Normal"
      ]
     },
     "execution_count": 42,
     "metadata": {},
     "output_type": "execute_result"
    }
   ],
   "source": [
    "df.head(10)"
   ]
  },
  {
   "cell_type": "code",
   "execution_count": 56,
   "metadata": {},
   "outputs": [
    {
     "data": {
      "text/html": [
       "<div>\n",
       "<style scoped>\n",
       "    .dataframe tbody tr th:only-of-type {\n",
       "        vertical-align: middle;\n",
       "    }\n",
       "\n",
       "    .dataframe tbody tr th {\n",
       "        vertical-align: top;\n",
       "    }\n",
       "\n",
       "    .dataframe thead th {\n",
       "        text-align: right;\n",
       "    }\n",
       "</style>\n",
       "<table border=\"1\" class=\"dataframe\">\n",
       "  <thead>\n",
       "    <tr style=\"text-align: right;\">\n",
       "      <th></th>\n",
       "      <th>BG_Result</th>\n",
       "      <th>Carb_Input</th>\n",
       "      <th>Insulin_Dose</th>\n",
       "    </tr>\n",
       "  </thead>\n",
       "  <tbody>\n",
       "    <tr>\n",
       "      <th>count</th>\n",
       "      <td>273.000000</td>\n",
       "      <td>262.000000</td>\n",
       "      <td>262.000000</td>\n",
       "    </tr>\n",
       "    <tr>\n",
       "      <th>mean</th>\n",
       "      <td>10.673993</td>\n",
       "      <td>27.259542</td>\n",
       "      <td>2.301145</td>\n",
       "    </tr>\n",
       "    <tr>\n",
       "      <th>std</th>\n",
       "      <td>5.234714</td>\n",
       "      <td>21.154635</td>\n",
       "      <td>2.828826</td>\n",
       "    </tr>\n",
       "    <tr>\n",
       "      <th>min</th>\n",
       "      <td>2.200000</td>\n",
       "      <td>0.000000</td>\n",
       "      <td>0.000000</td>\n",
       "    </tr>\n",
       "    <tr>\n",
       "      <th>25%</th>\n",
       "      <td>6.300000</td>\n",
       "      <td>12.000000</td>\n",
       "      <td>0.600000</td>\n",
       "    </tr>\n",
       "    <tr>\n",
       "      <th>50%</th>\n",
       "      <td>10.000000</td>\n",
       "      <td>23.500000</td>\n",
       "      <td>1.550000</td>\n",
       "    </tr>\n",
       "    <tr>\n",
       "      <th>75%</th>\n",
       "      <td>13.400000</td>\n",
       "      <td>42.000000</td>\n",
       "      <td>2.675000</td>\n",
       "    </tr>\n",
       "    <tr>\n",
       "      <th>max</th>\n",
       "      <td>30.100000</td>\n",
       "      <td>90.000000</td>\n",
       "      <td>16.000000</td>\n",
       "    </tr>\n",
       "  </tbody>\n",
       "</table>\n",
       "</div>"
      ],
      "text/plain": [
       "        BG_Result   Carb_Input   Insulin_Dose\n",
       "count  273.000000   262.000000     262.000000\n",
       "mean    10.673993    27.259542       2.301145\n",
       "std      5.234714    21.154635       2.828826\n",
       "min      2.200000     0.000000       0.000000\n",
       "25%      6.300000    12.000000       0.600000\n",
       "50%     10.000000    23.500000       1.550000\n",
       "75%     13.400000    42.000000       2.675000\n",
       "max     30.100000    90.000000      16.000000"
      ]
     },
     "execution_count": 56,
     "metadata": {},
     "output_type": "execute_result"
    }
   ],
   "source": [
    "df.describe()"
   ]
  },
  {
   "cell_type": "markdown",
   "metadata": {},
   "source": [
    "Glucose Sensitivity in mmol/L per gram of carbs increases the 1 mmol of blood glucose.  The Blood Glucose level deecreases, increases or stay same based on mainly 2 factors.  Insulin units taken before "
   ]
  },
  {
   "cell_type": "code",
   "execution_count": 124,
   "metadata": {},
   "outputs": [
    {
     "name": "stdout",
     "output_type": "stream",
     "text": [
      "[[ 3. ]\n",
      " [ 2.5]\n",
      " [ 3.2]\n",
      " [ 3.7]\n",
      " [ 3.9]\n",
      " [ 3.8]\n",
      " [ 3.5]\n",
      " [ 3.7]\n",
      " [ 3.3]\n",
      " [ 3.5]\n",
      " [ 2.5]\n",
      " [ 3.2]\n",
      " [ 2.4]\n",
      " [ 2.4]\n",
      " [ 5.7]\n",
      " [ 7.2]\n",
      " [ 7.3]\n",
      " [ 7.3]\n",
      " [ 5.6]\n",
      " [ 5.9]\n",
      " [10.6]\n",
      " [ 9.9]\n",
      " [10.6]\n",
      " [ 6.6]\n",
      " [ 9.2]\n",
      " [ 5.1]\n",
      " [ 9.4]\n",
      " [ 4.8]\n",
      " [ 6.4]\n",
      " [11.2]\n",
      " [13.3]\n",
      " [ 8. ]\n",
      " [12.4]\n",
      " [ 4.9]\n",
      " [ 4.5]\n",
      " [ 6. ]\n",
      " [ 4.2]\n",
      " [11.9]\n",
      " [ 6.3]\n",
      " [10.2]\n",
      " [ 8.7]\n",
      " [10.6]\n",
      " [ 9.9]\n",
      " [ 7.8]\n",
      " [ 9.7]\n",
      " [12.1]\n",
      " [12.3]\n",
      " [11.7]\n",
      " [ 4.3]\n",
      " [ 7.5]\n",
      " [ 7.3]\n",
      " [11.8]\n",
      " [ 6.9]\n",
      " [10.4]\n",
      " [11.5]\n",
      " [ 6.1]\n",
      " [10.4]\n",
      " [12.2]\n",
      " [ 8.2]\n",
      " [ 7. ]\n",
      " [13.4]\n",
      " [ 4.6]\n",
      " [ 7.3]\n",
      " [ 6.7]\n",
      " [12.6]\n",
      " [ 7.8]\n",
      " [ 5.6]\n",
      " [ 9.6]\n",
      " [13.6]\n",
      " [ 8.5]\n",
      " [ 6.5]\n",
      " [10.5]\n",
      " [ 7. ]\n",
      " [12. ]\n",
      " [11.2]\n",
      " [13.7]\n",
      " [10.2]\n",
      " [10.1]\n",
      " [12.9]\n",
      " [13.3]\n",
      " [ 7.8]\n",
      " [ 9.7]\n",
      " [ 6. ]\n",
      " [12.1]\n",
      " [ 5.7]\n",
      " [ 7.5]\n",
      " [ 8.4]\n",
      " [10.3]\n",
      " [10.9]\n",
      " [13.4]\n",
      " [10.5]\n",
      " [13.1]\n",
      " [ 4.2]\n",
      " [ 6.1]\n",
      " [ 6.9]\n",
      " [ 9.5]\n",
      " [10.2]\n",
      " [ 7.9]\n",
      " [12. ]\n",
      " [ 6.9]\n",
      " [ 8. ]\n",
      " [ 7.9]\n",
      " [ 9.5]\n",
      " [ 4.4]\n",
      " [11.2]\n",
      " [ 6. ]\n",
      " [10.2]\n",
      " [11.2]\n",
      " [10.7]\n",
      " [10.1]\n",
      " [ 5.8]\n",
      " [ 9.2]\n",
      " [13. ]\n",
      " [ 4.1]\n",
      " [ 5.8]\n",
      " [ 8.7]\n",
      " [ 6.5]\n",
      " [ 4.5]\n",
      " [12.8]\n",
      " [11.4]\n",
      " [ 6.7]\n",
      " [10.4]\n",
      " [ 4.7]\n",
      " [13.4]\n",
      " [ 5.2]\n",
      " [ 8.3]\n",
      " [10.8]\n",
      " [10.1]\n",
      " [ 9.9]\n",
      " [ 8.4]\n",
      " [ 8.9]\n",
      " [10. ]\n",
      " [11.6]\n",
      " [10.5]\n",
      " [ 4.6]\n",
      " [ 7.9]\n",
      " [ 6.7]\n",
      " [10. ]\n",
      " [11.6]\n",
      " [ 9. ]\n",
      " [11.7]\n",
      " [ 6.7]\n",
      " [12.8]\n",
      " [11.9]\n",
      " [13.8]\n",
      " [ 9.5]\n",
      " [ 9.3]\n",
      " [ 8.4]\n",
      " [ 9.4]\n",
      " [ 9.2]\n",
      " [ 5.6]\n",
      " [ 9. ]\n",
      " [ 9.7]\n",
      " [ 7.5]\n",
      " [ 8.4]\n",
      " [13. ]\n",
      " [ 4.5]\n",
      " [12.2]\n",
      " [11.2]\n",
      " [11.1]\n",
      " [11.5]\n",
      " [ 7. ]\n",
      " [12. ]\n",
      " [10.7]\n",
      " [ 9.5]\n",
      " [ 5.7]\n",
      " [ 4. ]\n",
      " [ 5.1]\n",
      " [11.3]\n",
      " [12. ]\n",
      " [12.1]\n",
      " [ 7.8]\n",
      " [ 8.7]\n",
      " [ 7.4]\n",
      " [12.7]\n",
      " [ 4.7]\n",
      " [12.9]\n",
      " [ 7.7]\n",
      " [10.1]\n",
      " [ 4.4]\n",
      " [11.4]\n",
      " [12.6]\n",
      " [ 8.4]\n",
      " [12.3]\n",
      " [10.2]\n",
      " [ 4.2]\n",
      " [16.1]\n",
      " [16.6]\n",
      " [15.9]\n",
      " [15.7]\n",
      " [15.1]\n",
      " [14.4]\n",
      " [16.3]\n",
      " [15.5]\n",
      " [14.5]\n",
      " [17. ]\n",
      " [17. ]\n",
      " [15.3]\n",
      " [16.2]\n",
      " [16.6]\n",
      " [15.7]\n",
      " [17.8]\n",
      " [15.3]\n",
      " [15.6]\n",
      " [17.5]\n",
      " [16.3]\n",
      " [17.2]\n",
      " [15.2]\n",
      " [15.4]\n",
      " [16.3]\n",
      " [17.3]\n",
      " [16.5]\n",
      " [16.1]\n",
      " [14.3]\n",
      " [15.5]\n",
      " [16.7]\n",
      " [16.4]\n",
      " [14.4]\n",
      " [17.1]\n",
      " [16. ]\n",
      " [24.9]\n",
      " [24.7]\n",
      " [26.8]\n",
      " [21.8]\n",
      " [20.9]\n",
      " [20.7]\n",
      " [28.8]\n",
      " [23.6]\n",
      " [23.9]\n",
      " [29. ]\n",
      " [21.9]\n",
      " [19.5]\n",
      " [30.1]\n",
      " [29.4]\n",
      " [26.6]\n",
      " [26.3]\n",
      " [21.3]\n",
      " [23.8]\n",
      " [26.2]\n",
      " [26.7]]\n"
     ]
    }
   ],
   "source": [
    "import numpy as np\n",
    "#round(random.uniform(1.5, 1.9),1)\n",
    "arr1 = np.around(np.random.uniform(2.2,3.9,14),1)\n",
    "arr2 = np.around(np.random.uniform(4,13.8,172),1)\n",
    "arr3 = np.around(np.random.uniform(14.1,17.8,34),1)\n",
    "arr4 = np.around(np.random.uniform(18.4,30.1,20),1)\n",
    "t1bg = np.concatenate((arr1,arr2,arr3,arr4)) \n",
    "rs =np.random.RandomState(123456)\n",
    "set = rs.uniform(size=(len(t1bg),1))\n",
    "for i in range(0,len(t1bg)):\n",
    "    set[i,0]=t1bg[i]\n",
    "print (set)\n",
    "#print (np.concatenate((arr1,arr2,arr3,arr4)))\n",
    "#print (np.mean(np.concatenate((arr1,arr2,arr3,arr4))))\n",
    "#print (t1bg)"
   ]
  },
  {
   "cell_type": "code",
   "execution_count": 105,
   "metadata": {},
   "outputs": [],
   "source": [
    "import pandas as pd\n",
    "rng = pd.date_range('1/1/2020', periods=720, freq='H')\n"
   ]
  },
  {
   "cell_type": "code",
   "execution_count": 106,
   "metadata": {},
   "outputs": [],
   "source": [
    "import numpy as np\n",
    "import pandas as pd"
   ]
  },
  {
   "cell_type": "code",
   "execution_count": 165,
   "metadata": {},
   "outputs": [
    {
     "ename": "TypeError",
     "evalue": "around() got an unexpected keyword argument 'columns'",
     "output_type": "error",
     "traceback": [
      "\u001b[1;31m---------------------------------------------------------------------------\u001b[0m",
      "\u001b[1;31mTypeError\u001b[0m                                 Traceback (most recent call last)",
      "\u001b[1;32m<ipython-input-165-900a4efb027d>\u001b[0m in \u001b[0;36m<module>\u001b[1;34m\u001b[0m\n\u001b[0;32m      1\u001b[0m \u001b[1;31m#ts = pd.Series(np.random.randn(len(rng)), index=rng)\u001b[0m\u001b[1;33m\u001b[0m\u001b[1;33m\u001b[0m\u001b[1;33m\u001b[0m\u001b[0m\n\u001b[1;32m----> 2\u001b[1;33m \u001b[0mts\u001b[0m \u001b[1;33m=\u001b[0m \u001b[0mnp\u001b[0m\u001b[1;33m.\u001b[0m\u001b[0maround\u001b[0m\u001b[1;33m(\u001b[0m\u001b[0mpd\u001b[0m\u001b[1;33m.\u001b[0m\u001b[0mSeries\u001b[0m\u001b[1;33m(\u001b[0m\u001b[0mnp\u001b[0m\u001b[1;33m.\u001b[0m\u001b[0mrandom\u001b[0m\u001b[1;33m.\u001b[0m\u001b[0muniform\u001b[0m\u001b[1;33m(\u001b[0m\u001b[1;36m2\u001b[0m\u001b[1;33m,\u001b[0m\u001b[1;36m19\u001b[0m\u001b[1;33m,\u001b[0m \u001b[0mlen\u001b[0m\u001b[1;33m(\u001b[0m\u001b[0mrng\u001b[0m\u001b[1;33m)\u001b[0m\u001b[1;33m)\u001b[0m\u001b[1;33m,\u001b[0m \u001b[0mindex\u001b[0m\u001b[1;33m=\u001b[0m\u001b[0mrng\u001b[0m\u001b[1;33m)\u001b[0m\u001b[1;33m,\u001b[0m\u001b[0mcolumns\u001b[0m\u001b[1;33m=\u001b[0m\u001b[1;33m[\u001b[0m\u001b[1;34m\"BG_Result\"\u001b[0m\u001b[1;33m]\u001b[0m\u001b[1;33m)\u001b[0m\u001b[1;33m\u001b[0m\u001b[1;33m\u001b[0m\u001b[0m\n\u001b[0m\u001b[0;32m      3\u001b[0m \u001b[1;31m#ts = pd.Series(index=rng)\u001b[0m\u001b[1;33m\u001b[0m\u001b[1;33m\u001b[0m\u001b[1;33m\u001b[0m\u001b[0m\n\u001b[0;32m      4\u001b[0m \u001b[1;31m#xy = np.array(ts.values.tolist())\u001b[0m\u001b[1;33m\u001b[0m\u001b[1;33m\u001b[0m\u001b[1;33m\u001b[0m\u001b[0m\n",
      "\u001b[1;31mTypeError\u001b[0m: around() got an unexpected keyword argument 'columns'"
     ]
    }
   ],
   "source": [
    "#ts = pd.Series(np.random.randn(len(rng)), index=rng)\n",
    "ts = np.around(pd.Series(np.random.uniform(2,19, len(rng)), index=rng),columns=[\"BG_Result\"])\n",
    "#ts = pd.Series(index=rng)\n",
    "#xy = np.array(ts.values.tolist())"
   ]
  },
  {
   "cell_type": "code",
   "execution_count": 160,
   "metadata": {},
   "outputs": [
    {
     "data": {
      "text/plain": [
       "2020-01-01 00:00:00     7.26\n",
       "2020-01-01 01:00:00    10.19\n",
       "2020-01-01 02:00:00    17.98\n",
       "2020-01-01 03:00:00    14.07\n",
       "2020-01-01 04:00:00    15.22\n",
       "2020-01-01 05:00:00    12.99\n",
       "2020-01-01 06:00:00    13.32\n",
       "2020-01-01 07:00:00    12.51\n",
       "2020-01-01 08:00:00    13.82\n",
       "2020-01-01 09:00:00    15.24\n",
       "2020-01-01 10:00:00     9.62\n",
       "2020-01-01 11:00:00    16.11\n",
       "2020-01-01 12:00:00    11.51\n",
       "2020-01-01 13:00:00     6.59\n",
       "2020-01-01 14:00:00     5.10\n",
       "2020-01-01 15:00:00     8.05\n",
       "2020-01-01 16:00:00     5.14\n",
       "2020-01-01 17:00:00    17.26\n",
       "2020-01-01 18:00:00    11.83\n",
       "2020-01-01 19:00:00    14.59\n",
       "2020-01-01 20:00:00    10.89\n",
       "2020-01-01 21:00:00     5.56\n",
       "2020-01-01 22:00:00    15.52\n",
       "2020-01-01 23:00:00    12.62\n",
       "2020-01-02 00:00:00    15.51\n",
       "2020-01-02 01:00:00    15.79\n",
       "2020-01-02 02:00:00    14.14\n",
       "2020-01-02 03:00:00     3.92\n",
       "2020-01-02 04:00:00    15.15\n",
       "2020-01-02 05:00:00     7.78\n",
       "                       ...  \n",
       "2020-01-29 18:00:00    12.38\n",
       "2020-01-29 19:00:00     6.50\n",
       "2020-01-29 20:00:00    18.75\n",
       "2020-01-29 21:00:00    14.77\n",
       "2020-01-29 22:00:00    12.70\n",
       "2020-01-29 23:00:00     4.39\n",
       "2020-01-30 00:00:00    13.40\n",
       "2020-01-30 01:00:00    17.55\n",
       "2020-01-30 02:00:00     2.82\n",
       "2020-01-30 03:00:00    12.11\n",
       "2020-01-30 04:00:00    13.56\n",
       "2020-01-30 05:00:00     8.59\n",
       "2020-01-30 06:00:00     3.62\n",
       "2020-01-30 07:00:00    11.50\n",
       "2020-01-30 08:00:00    10.44\n",
       "2020-01-30 09:00:00     2.33\n",
       "2020-01-30 10:00:00    13.95\n",
       "2020-01-30 11:00:00     7.60\n",
       "2020-01-30 12:00:00    12.82\n",
       "2020-01-30 13:00:00    17.26\n",
       "2020-01-30 14:00:00    16.78\n",
       "2020-01-30 15:00:00    13.04\n",
       "2020-01-30 16:00:00    17.27\n",
       "2020-01-30 17:00:00    15.53\n",
       "2020-01-30 18:00:00     5.74\n",
       "2020-01-30 19:00:00    14.55\n",
       "2020-01-30 20:00:00     6.28\n",
       "2020-01-30 21:00:00     5.57\n",
       "2020-01-30 22:00:00     8.49\n",
       "2020-01-30 23:00:00     8.24\n",
       "Freq: H, Length: 720, dtype: float64"
      ]
     },
     "execution_count": 160,
     "metadata": {},
     "output_type": "execute_result"
    }
   ],
   "source": [
    "ts"
   ]
  },
  {
   "cell_type": "code",
   "execution_count": 90,
   "metadata": {},
   "outputs": [],
   "source": [
    "carb1 = np.around(np.random.uniform(0,1,48),1)\n",
    "carb2 = np.around(np.random.uniform(5,12,22),1)\n",
    "carb3 = np.around(np.random.uniform(13,43,118),1)\n",
    "carb4 = np.around(np.random.uniform(44,90,52),1)\n",
    "carbs = (np.concatenate((carb1,carb2,carb3,carb4)))\n"
   ]
  },
  {
   "cell_type": "code",
   "execution_count": 88,
   "metadata": {},
   "outputs": [
    {
     "data": {
      "text/plain": [
       "array([ 0. ,  2. ,  3. ,  1. ,  2. ,  5. ,  4. ,  1. ,  3. ,  3. ,  0. ,\n",
       "        3. ,  3. ,  1. ,  1. ,  1. ,  1. ,  1. ,  0. ,  0. ,  0. ,  3. ,\n",
       "        5. ,  2. ,  3. ,  2. ,  4. ,  5. ,  2. ,  5. ,  5. ,  2. ,  3. ,\n",
       "        5. ,  1. ,  2. ,  1. ,  3. ,  3. ,  1. ,  2. ,  2. ,  4. ,  4. ,\n",
       "        4. ,  3. ,  2. ,  1. ,  9. , 12. ,  8. , 11. ,  8. , 10. ,  9. ,\n",
       "        8. , 10. ,  9. , 11. , 11. , 10. , 11. , 10. , 10. , 12. ,  8. ,\n",
       "        9. ,  9. , 11. , 11. , 14. , 22. , 31. , 27. , 37. , 32. , 39. ,\n",
       "       39. , 41. , 41. , 30. , 38. , 40. , 28. , 15. , 34. , 18. , 16. ,\n",
       "       41. , 43. , 41. , 41. , 26. , 26. , 33. , 24. , 40. , 25. , 34. ,\n",
       "       37. , 27. , 17. , 22. , 42. , 39. , 34. , 28. , 21. , 19. , 26. ,\n",
       "       39. , 41. , 14. , 33. , 31. , 16. , 35. , 34. , 33. , 21. , 37. ,\n",
       "       26. , 35. , 39. , 25. , 28. , 20. , 36. , 35. , 19. , 36. , 14. ,\n",
       "       17. , 30. , 42. , 17. , 15. , 16. , 32. , 15. , 14. , 33. , 15. ,\n",
       "       20. , 37. , 28. , 20. , 39. , 34. , 39. , 20. , 15. , 25. , 29. ,\n",
       "       39. , 16. , 14. , 29. , 34. , 31. , 34. , 35. , 26. , 31. , 23. ,\n",
       "       37. , 18. , 26. , 32. , 13. , 24. , 22. , 20. , 38. , 31. , 20. ,\n",
       "       20. , 31. , 34. , 39. , 16. , 17. , 42. , 35. , 25. , 35. , 24. ,\n",
       "       19. , 44.3, 64.9, 50.3, 53.3, 49.9, 73.2, 82.6, 69.1, 55.2, 74.7,\n",
       "       47.3, 65.2, 49.5, 74.4, 55.3, 44.4, 44.9, 54.3, 75.4, 89. , 88.9,\n",
       "       74.3, 49.9, 44.8, 89.3, 75.5, 62.8, 76.8, 58.7, 83.2, 84.7, 65.4,\n",
       "       77. , 87. , 52.4, 44.4, 61.2, 82.1, 66.8, 80.5, 69.6, 53.5, 61.9,\n",
       "       48.5, 59.6, 67. , 61.6, 88.2, 44.7, 49.5, 56.4, 71.6])"
      ]
     },
     "execution_count": 88,
     "metadata": {},
     "output_type": "execute_result"
    }
   ],
   "source": [
    "carbs"
   ]
  },
  {
   "cell_type": "code",
   "execution_count": 53,
   "metadata": {},
   "outputs": [
    {
     "data": {
      "text/plain": [
       "<seaborn.axisgrid.PairGrid at 0xf45d940>"
      ]
     },
     "execution_count": 53,
     "metadata": {},
     "output_type": "execute_result"
    },
    {
     "data": {
      "image/png": "[encoded data removed]",
      "text/plain": [
       "<Figure size 612.25x540 with 12 Axes>"
      ]
     },
     "metadata": {
      "needs_background": "light"
     },
     "output_type": "display_data"
    }
   ],
   "source": [
    "import seaborn as sns\n",
    "sns.pairplot(df,hue=\"Target\")"
   ]
  },
  {
   "cell_type": "code",
   "execution_count": 40,
   "metadata": {
    "scrolled": true
   },
   "outputs": [
    {
     "ename": "KeyError",
     "evalue": "\"['BG_Result' 'Carb_Input' 'Insulin_Dose'] not in index\"",
     "output_type": "error",
     "traceback": [
      "\u001b[1;31m---------------------------------------------------------------------------\u001b[0m",
      "\u001b[1;31mKeyError\u001b[0m                                  Traceback (most recent call last)",
      "\u001b[1;32m<ipython-input-40-29a22020ad60>\u001b[0m in \u001b[0;36m<module>\u001b[1;34m\u001b[0m\n\u001b[0;32m      1\u001b[0m \u001b[1;32mimport\u001b[0m \u001b[0msklearn\u001b[0m\u001b[1;33m.\u001b[0m\u001b[0mneighbors\u001b[0m \u001b[1;32mas\u001b[0m \u001b[0mnei\u001b[0m\u001b[1;33m\u001b[0m\u001b[1;33m\u001b[0m\u001b[0m\n\u001b[1;32m----> 2\u001b[1;33m \u001b[0minputs1\u001b[0m\u001b[1;33m=\u001b[0m\u001b[0mdf\u001b[0m\u001b[1;33m[\u001b[0m\u001b[1;33m[\u001b[0m\u001b[1;34m'BG_Result'\u001b[0m\u001b[1;33m,\u001b[0m\u001b[1;34m'Carb_Input'\u001b[0m\u001b[1;33m,\u001b[0m\u001b[1;34m'Insulin_Dose'\u001b[0m\u001b[1;33m]\u001b[0m\u001b[1;33m]\u001b[0m\u001b[1;33m\u001b[0m\u001b[1;33m\u001b[0m\u001b[0m\n\u001b[0m\u001b[0;32m      3\u001b[0m \u001b[0moutputs1\u001b[0m\u001b[1;33m=\u001b[0m\u001b[0mdf\u001b[0m\u001b[1;33m[\u001b[0m\u001b[1;34m'Target'\u001b[0m\u001b[1;33m]\u001b[0m\u001b[1;33m\u001b[0m\u001b[1;33m\u001b[0m\u001b[0m\n",
      "\u001b[1;32m~\\AppData\\Local\\Continuum\\anaconda3\\lib\\site-packages\\pandas\\core\\frame.py\u001b[0m in \u001b[0;36m__getitem__\u001b[1;34m(self, key)\u001b[0m\n\u001b[0;32m   2680\u001b[0m         \u001b[1;32mif\u001b[0m \u001b[0misinstance\u001b[0m\u001b[1;33m(\u001b[0m\u001b[0mkey\u001b[0m\u001b[1;33m,\u001b[0m \u001b[1;33m(\u001b[0m\u001b[0mSeries\u001b[0m\u001b[1;33m,\u001b[0m \u001b[0mnp\u001b[0m\u001b[1;33m.\u001b[0m\u001b[0mndarray\u001b[0m\u001b[1;33m,\u001b[0m \u001b[0mIndex\u001b[0m\u001b[1;33m,\u001b[0m \u001b[0mlist\u001b[0m\u001b[1;33m)\u001b[0m\u001b[1;33m)\u001b[0m\u001b[1;33m:\u001b[0m\u001b[1;33m\u001b[0m\u001b[1;33m\u001b[0m\u001b[0m\n\u001b[0;32m   2681\u001b[0m             \u001b[1;31m# either boolean or fancy integer index\u001b[0m\u001b[1;33m\u001b[0m\u001b[1;33m\u001b[0m\u001b[1;33m\u001b[0m\u001b[0m\n\u001b[1;32m-> 2682\u001b[1;33m             \u001b[1;32mreturn\u001b[0m \u001b[0mself\u001b[0m\u001b[1;33m.\u001b[0m\u001b[0m_getitem_array\u001b[0m\u001b[1;33m(\u001b[0m\u001b[0mkey\u001b[0m\u001b[1;33m)\u001b[0m\u001b[1;33m\u001b[0m\u001b[1;33m\u001b[0m\u001b[0m\n\u001b[0m\u001b[0;32m   2683\u001b[0m         \u001b[1;32melif\u001b[0m \u001b[0misinstance\u001b[0m\u001b[1;33m(\u001b[0m\u001b[0mkey\u001b[0m\u001b[1;33m,\u001b[0m \u001b[0mDataFrame\u001b[0m\u001b[1;33m)\u001b[0m\u001b[1;33m:\u001b[0m\u001b[1;33m\u001b[0m\u001b[1;33m\u001b[0m\u001b[0m\n\u001b[0;32m   2684\u001b[0m             \u001b[1;32mreturn\u001b[0m \u001b[0mself\u001b[0m\u001b[1;33m.\u001b[0m\u001b[0m_getitem_frame\u001b[0m\u001b[1;33m(\u001b[0m\u001b[0mkey\u001b[0m\u001b[1;33m)\u001b[0m\u001b[1;33m\u001b[0m\u001b[1;33m\u001b[0m\u001b[0m\n",
      "\u001b[1;32m~\\AppData\\Local\\Continuum\\anaconda3\\lib\\site-packages\\pandas\\core\\frame.py\u001b[0m in \u001b[0;36m_getitem_array\u001b[1;34m(self, key)\u001b[0m\n\u001b[0;32m   2724\u001b[0m             \u001b[1;32mreturn\u001b[0m \u001b[0mself\u001b[0m\u001b[1;33m.\u001b[0m\u001b[0m_take\u001b[0m\u001b[1;33m(\u001b[0m\u001b[0mindexer\u001b[0m\u001b[1;33m,\u001b[0m \u001b[0maxis\u001b[0m\u001b[1;33m=\u001b[0m\u001b[1;36m0\u001b[0m\u001b[1;33m)\u001b[0m\u001b[1;33m\u001b[0m\u001b[1;33m\u001b[0m\u001b[0m\n\u001b[0;32m   2725\u001b[0m         \u001b[1;32melse\u001b[0m\u001b[1;33m:\u001b[0m\u001b[1;33m\u001b[0m\u001b[1;33m\u001b[0m\u001b[0m\n\u001b[1;32m-> 2726\u001b[1;33m             \u001b[0mindexer\u001b[0m \u001b[1;33m=\u001b[0m \u001b[0mself\u001b[0m\u001b[1;33m.\u001b[0m\u001b[0mloc\u001b[0m\u001b[1;33m.\u001b[0m\u001b[0m_convert_to_indexer\u001b[0m\u001b[1;33m(\u001b[0m\u001b[0mkey\u001b[0m\u001b[1;33m,\u001b[0m \u001b[0maxis\u001b[0m\u001b[1;33m=\u001b[0m\u001b[1;36m1\u001b[0m\u001b[1;33m)\u001b[0m\u001b[1;33m\u001b[0m\u001b[1;33m\u001b[0m\u001b[0m\n\u001b[0m\u001b[0;32m   2727\u001b[0m             \u001b[1;32mreturn\u001b[0m \u001b[0mself\u001b[0m\u001b[1;33m.\u001b[0m\u001b[0m_take\u001b[0m\u001b[1;33m(\u001b[0m\u001b[0mindexer\u001b[0m\u001b[1;33m,\u001b[0m \u001b[0maxis\u001b[0m\u001b[1;33m=\u001b[0m\u001b[1;36m1\u001b[0m\u001b[1;33m)\u001b[0m\u001b[1;33m\u001b[0m\u001b[1;33m\u001b[0m\u001b[0m\n\u001b[0;32m   2728\u001b[0m \u001b[1;33m\u001b[0m\u001b[0m\n",
      "\u001b[1;32m~\\AppData\\Local\\Continuum\\anaconda3\\lib\\site-packages\\pandas\\core\\indexing.py\u001b[0m in \u001b[0;36m_convert_to_indexer\u001b[1;34m(self, obj, axis, is_setter)\u001b[0m\n\u001b[0;32m   1325\u001b[0m                 \u001b[1;32mif\u001b[0m \u001b[0mmask\u001b[0m\u001b[1;33m.\u001b[0m\u001b[0many\u001b[0m\u001b[1;33m(\u001b[0m\u001b[1;33m)\u001b[0m\u001b[1;33m:\u001b[0m\u001b[1;33m\u001b[0m\u001b[1;33m\u001b[0m\u001b[0m\n\u001b[0;32m   1326\u001b[0m                     raise KeyError('{mask} not in index'\n\u001b[1;32m-> 1327\u001b[1;33m                                    .format(mask=objarr[mask]))\n\u001b[0m\u001b[0;32m   1328\u001b[0m \u001b[1;33m\u001b[0m\u001b[0m\n\u001b[0;32m   1329\u001b[0m                 \u001b[1;32mreturn\u001b[0m \u001b[0mcom\u001b[0m\u001b[1;33m.\u001b[0m\u001b[0m_values_from_object\u001b[0m\u001b[1;33m(\u001b[0m\u001b[0mindexer\u001b[0m\u001b[1;33m)\u001b[0m\u001b[1;33m\u001b[0m\u001b[1;33m\u001b[0m\u001b[0m\n",
      "\u001b[1;31mKeyError\u001b[0m: \"['BG_Result' 'Carb_Input' 'Insulin_Dose'] not in index\""
     ]
    }
   ],
   "source": [
    "import sklearn.neighbors as nei\n",
    "inputs1=df[['BG_Result','Carb_Input','Insulin_Dose']]\n",
    "outputs1=df['Target']"
   ]
  },
  {
   "cell_type": "code",
   "execution_count": 36,
   "metadata": {},
   "outputs": [
    {
     "ename": "NameError",
     "evalue": "name 'inputs1' is not defined",
     "output_type": "error",
     "traceback": [
      "\u001b[1;31m---------------------------------------------------------------------------\u001b[0m",
      "\u001b[1;31mNameError\u001b[0m                                 Traceback (most recent call last)",
      "\u001b[1;32m<ipython-input-36-61d536511d68>\u001b[0m in \u001b[0;36m<module>\u001b[1;34m\u001b[0m\n\u001b[0;32m      1\u001b[0m \u001b[1;32mimport\u001b[0m \u001b[0msklearn\u001b[0m\u001b[1;33m.\u001b[0m\u001b[0mneighbors\u001b[0m \u001b[1;32mas\u001b[0m \u001b[0mnei\u001b[0m\u001b[1;33m\u001b[0m\u001b[1;33m\u001b[0m\u001b[0m\n\u001b[0;32m      2\u001b[0m \u001b[0mknn\u001b[0m \u001b[1;33m=\u001b[0m \u001b[0mnei\u001b[0m\u001b[1;33m.\u001b[0m\u001b[0mKNeighborsClassifier\u001b[0m\u001b[1;33m(\u001b[0m\u001b[0mn_neighbors\u001b[0m\u001b[1;33m=\u001b[0m\u001b[1;36m5\u001b[0m\u001b[1;33m)\u001b[0m\u001b[1;33m\u001b[0m\u001b[1;33m\u001b[0m\u001b[0m\n\u001b[1;32m----> 3\u001b[1;33m \u001b[0mknn\u001b[0m\u001b[1;33m.\u001b[0m\u001b[0mfit\u001b[0m\u001b[1;33m(\u001b[0m\u001b[0minputs1\u001b[0m\u001b[1;33m,\u001b[0m \u001b[0moutputs1\u001b[0m\u001b[1;33m)\u001b[0m\u001b[1;33m\u001b[0m\u001b[1;33m\u001b[0m\u001b[0m\n\u001b[0m",
      "\u001b[1;31mNameError\u001b[0m: name 'inputs1' is not defined"
     ]
    }
   ],
   "source": [
    "import sklearn.neighbors as nei\n",
    "knn = nei.KNeighborsClassifier(n_neighbors=5)\n",
    "knn.fit(inputs1, outputs1)"
   ]
  },
  {
   "cell_type": "code",
   "execution_count": 19,
   "metadata": {},
   "outputs": [
    {
     "ename": "NameError",
     "evalue": "name 'inputs1' is not defined",
     "output_type": "error",
     "traceback": [
      "\u001b[1;31m---------------------------------------------------------------------------\u001b[0m",
      "\u001b[1;31mNameError\u001b[0m                                 Traceback (most recent call last)",
      "\u001b[1;32m<ipython-input-19-976cf892bf30>\u001b[0m in \u001b[0;36m<module>\u001b[1;34m\u001b[0m\n\u001b[1;32m----> 1\u001b[1;33m \u001b[1;33m(\u001b[0m\u001b[0mknn\u001b[0m\u001b[1;33m.\u001b[0m\u001b[0mpredict\u001b[0m\u001b[1;33m(\u001b[0m\u001b[0minputs1\u001b[0m\u001b[1;33m)\u001b[0m\u001b[1;33m==\u001b[0m \u001b[0moutputs1\u001b[0m\u001b[1;33m)\u001b[0m\u001b[1;33m.\u001b[0m\u001b[0msum\u001b[0m\u001b[1;33m(\u001b[0m\u001b[1;33m)\u001b[0m\u001b[1;33m\u001b[0m\u001b[1;33m\u001b[0m\u001b[0m\n\u001b[0m",
      "\u001b[1;31mNameError\u001b[0m: name 'inputs1' is not defined"
     ]
    }
   ],
   "source": [
    "(knn.predict(inputs1)== outputs1).sum()"
   ]
  },
  {
   "cell_type": "code",
   "execution_count": 46,
   "metadata": {},
   "outputs": [],
   "source": [
    "inputs_train, inputs_test, outputs_train, outputs_test = mod.train_test_split(inputs1,outputs1,test_size=0.33)"
   ]
  },
  {
   "cell_type": "markdown",
   "metadata": {},
   "source": [
    "# Setting up variables for data frame creation."
   ]
  },
  {
   "cell_type": "code",
   "execution_count": 10,
   "metadata": {},
   "outputs": [
    {
     "data": {
      "text/plain": [
       "(array([ 1.,  0.,  6., 12., 21., 24., 22.,  9.,  4.,  1.]),\n",
       " array([-35.63150779, -27.83098894, -20.03047008, -12.22995123,\n",
       "         -4.42943237,   3.37108649,  11.17160534,  18.9721242 ,\n",
       "         26.77264305,  34.57316191,  42.37368077]),\n",
       " <a list of 10 Patch objects>)"
      ]
     },
     "execution_count": 10,
     "metadata": {},
     "output_type": "execute_result"
    },
    {
     "data": {
      "image/png": "[encoded data removed]",
      "text/plain": [
       "<Figure size 432x288 with 1 Axes>"
      ]
     },
     "metadata": {
      "needs_background": "light"
     },
     "output_type": "display_data"
    }
   ],
   "source": [
    "import numpy as np\n",
    "import matplotlib.pyplot as plt\n",
    "dfnum = 2 # between group deg of freedom\n",
    "dfden = 30 # within groups degrees of freedom\n",
    "nonc = 3.0\n",
    "nc_vals = np.random.noncentral_f(dfnum, dfden, nonc, 100)\n",
    "bg_level = np.random.normal(5.8, 14, 100)\n",
    "plt.hist(bg_level)"
   ]
  },
  {
   "cell_type": "markdown",
   "metadata": {},
   "source": [
    "In the above the 5.8 is the ideal bg level and between 5.8 to 14 is normal level and anything above 14 is considered high."
   ]
  },
  {
   "cell_type": "code",
   "execution_count": 48,
   "metadata": {
    "scrolled": true
   },
   "outputs": [
    {
     "data": {
      "text/plain": [
       "(array([27., 22., 16., 13., 10.,  4.,  4.,  2.,  1.,  1.]),\n",
       " array([0.10765678, 0.48015313, 0.85264949, 1.22514585, 1.59764221,\n",
       "        1.97013856, 2.34263492, 2.71513128, 3.08762764, 3.46012399,\n",
       "        3.83262035]),\n",
       " <a list of 10 Patch objects>)"
      ]
     },
     "execution_count": 48,
     "metadata": {},
     "output_type": "execute_result"
    },
    {
     "data": {
      "image/png": "[encoded data removed]",
      "text/plain": [
       "<Figure size 432x288 with 1 Axes>"
      ]
     },
     "metadata": {
      "needs_background": "light"
     },
     "output_type": "display_data"
    }
   ],
   "source": [
    "import numpy as np\n",
    "dfnum = 5.8 # between group degrees of freedom\n",
    "dfden = 14. # within groups degrees of freedom\n",
    "BG = np.random.f(dfnum, dfden, 100)\n",
    "plt.hist(BG)"
   ]
  },
  {
   "cell_type": "code",
   "execution_count": 49,
   "metadata": {},
   "outputs": [
    {
     "data": {
      "text/html": [
       "<div>\n",
       "<style scoped>\n",
       "    .dataframe tbody tr th:only-of-type {\n",
       "        vertical-align: middle;\n",
       "    }\n",
       "\n",
       "    .dataframe tbody tr th {\n",
       "        vertical-align: top;\n",
       "    }\n",
       "\n",
       "    .dataframe thead th {\n",
       "        text-align: right;\n",
       "    }\n",
       "</style>\n",
       "<table border=\"1\" class=\"dataframe\">\n",
       "  <thead>\n",
       "    <tr style=\"text-align: right;\">\n",
       "      <th></th>\n",
       "      <th>Date_Time</th>\n",
       "      <th>BG_Result</th>\n",
       "      <th>Insulin_Delivered</th>\n",
       "      <th>Carb_Input</th>\n",
       "      <th>Target</th>\n",
       "    </tr>\n",
       "  </thead>\n",
       "  <tbody>\n",
       "    <tr>\n",
       "      <td>0</td>\n",
       "      <td>01/10/2019 05:45</td>\n",
       "      <td>12.1</td>\n",
       "      <td>0.9</td>\n",
       "      <td>0</td>\n",
       "      <td>Above</td>\n",
       "    </tr>\n",
       "    <tr>\n",
       "      <td>1</td>\n",
       "      <td>01/10/2019 07:58</td>\n",
       "      <td>0.0</td>\n",
       "      <td>10.5</td>\n",
       "      <td>42</td>\n",
       "      <td>Carbs_Insulin</td>\n",
       "    </tr>\n",
       "    <tr>\n",
       "      <td>2</td>\n",
       "      <td>01/10/2019 11:02</td>\n",
       "      <td>13.4</td>\n",
       "      <td>0.6</td>\n",
       "      <td>13</td>\n",
       "      <td>Above</td>\n",
       "    </tr>\n",
       "    <tr>\n",
       "      <td>3</td>\n",
       "      <td>01/10/2019 13:07</td>\n",
       "      <td>11.9</td>\n",
       "      <td>2.2</td>\n",
       "      <td>33</td>\n",
       "      <td>Above</td>\n",
       "    </tr>\n",
       "    <tr>\n",
       "      <td>4</td>\n",
       "      <td>01/10/2019 15:36</td>\n",
       "      <td>12.0</td>\n",
       "      <td>2.2</td>\n",
       "      <td>40</td>\n",
       "      <td>Above</td>\n",
       "    </tr>\n",
       "  </tbody>\n",
       "</table>\n",
       "</div>"
      ],
      "text/plain": [
       "          Date_Time  BG_Result  Insulin_Delivered  Carb_Input         Target\n",
       "0  01/10/2019 05:45       12.1                0.9           0          Above\n",
       "1  01/10/2019 07:58        0.0               10.5          42  Carbs_Insulin\n",
       "2  01/10/2019 11:02       13.4                0.6          13          Above\n",
       "3  01/10/2019 13:07       11.9                2.2          33          Above\n",
       "4  01/10/2019 15:36       12.0                2.2          40          Above"
      ]
     },
     "execution_count": 49,
     "metadata": {},
     "output_type": "execute_result"
    }
   ],
   "source": [
    "df.head()       "
   ]
  },
  {
   "cell_type": "code",
   "execution_count": 35,
   "metadata": {},
   "outputs": [
    {
     "data": {
      "text/html": [
       "<div>\n",
       "<style scoped>\n",
       "    .dataframe tbody tr th:only-of-type {\n",
       "        vertical-align: middle;\n",
       "    }\n",
       "\n",
       "    .dataframe tbody tr th {\n",
       "        vertical-align: top;\n",
       "    }\n",
       "\n",
       "    .dataframe thead th {\n",
       "        text-align: right;\n",
       "    }\n",
       "</style>\n",
       "<table border=\"1\" class=\"dataframe\">\n",
       "  <thead>\n",
       "    <tr style=\"text-align: right;\">\n",
       "      <th></th>\n",
       "      <th>BG_Result</th>\n",
       "      <th>Carb_Input</th>\n",
       "      <th>Insulin_Dose</th>\n",
       "    </tr>\n",
       "  </thead>\n",
       "  <tbody>\n",
       "    <tr>\n",
       "      <th>count</th>\n",
       "      <td>273.000000</td>\n",
       "      <td>262.000000</td>\n",
       "      <td>262.000000</td>\n",
       "    </tr>\n",
       "    <tr>\n",
       "      <th>mean</th>\n",
       "      <td>10.673993</td>\n",
       "      <td>27.259542</td>\n",
       "      <td>2.301145</td>\n",
       "    </tr>\n",
       "    <tr>\n",
       "      <th>std</th>\n",
       "      <td>5.234714</td>\n",
       "      <td>21.154635</td>\n",
       "      <td>2.828826</td>\n",
       "    </tr>\n",
       "    <tr>\n",
       "      <th>min</th>\n",
       "      <td>2.200000</td>\n",
       "      <td>0.000000</td>\n",
       "      <td>0.000000</td>\n",
       "    </tr>\n",
       "    <tr>\n",
       "      <th>25%</th>\n",
       "      <td>6.300000</td>\n",
       "      <td>12.000000</td>\n",
       "      <td>0.600000</td>\n",
       "    </tr>\n",
       "    <tr>\n",
       "      <th>50%</th>\n",
       "      <td>10.000000</td>\n",
       "      <td>23.500000</td>\n",
       "      <td>1.550000</td>\n",
       "    </tr>\n",
       "    <tr>\n",
       "      <th>75%</th>\n",
       "      <td>13.400000</td>\n",
       "      <td>42.000000</td>\n",
       "      <td>2.675000</td>\n",
       "    </tr>\n",
       "    <tr>\n",
       "      <th>max</th>\n",
       "      <td>30.100000</td>\n",
       "      <td>90.000000</td>\n",
       "      <td>16.000000</td>\n",
       "    </tr>\n",
       "  </tbody>\n",
       "</table>\n",
       "</div>"
      ],
      "text/plain": [
       "        BG_Result   Carb_Input   Insulin_Dose\n",
       "count  273.000000   262.000000     262.000000\n",
       "mean    10.673993    27.259542       2.301145\n",
       "std      5.234714    21.154635       2.828826\n",
       "min      2.200000     0.000000       0.000000\n",
       "25%      6.300000    12.000000       0.600000\n",
       "50%     10.000000    23.500000       1.550000\n",
       "75%     13.400000    42.000000       2.675000\n",
       "max     30.100000    90.000000      16.000000"
      ]
     },
     "execution_count": 35,
     "metadata": {},
     "output_type": "execute_result"
    }
   ],
   "source": [
    "df.describe()"
   ]
  },
  {
   "cell_type": "code",
   "execution_count": 34,
   "metadata": {
    "scrolled": true
   },
   "outputs": [
    {
     "data": {
      "text/plain": [
       "array([[<matplotlib.axes._subplots.AxesSubplot object at 0x000000000CE39BA8>,\n",
       "        <matplotlib.axes._subplots.AxesSubplot object at 0x000000000DAD7898>,\n",
       "        <matplotlib.axes._subplots.AxesSubplot object at 0x000000000DAFADA0>],\n",
       "       [<matplotlib.axes._subplots.AxesSubplot object at 0x000000000DB2A358>,\n",
       "        <matplotlib.axes._subplots.AxesSubplot object at 0x000000000DB508D0>,\n",
       "        <matplotlib.axes._subplots.AxesSubplot object at 0x000000000DB77E48>],\n",
       "       [<matplotlib.axes._subplots.AxesSubplot object at 0x000000000DBA6400>,\n",
       "        <matplotlib.axes._subplots.AxesSubplot object at 0x000000000DBCF9B0>,\n",
       "        <matplotlib.axes._subplots.AxesSubplot object at 0x000000000DBCF9E8>]],\n",
       "      dtype=object)"
      ]
     },
     "execution_count": 34,
     "metadata": {},
     "output_type": "execute_result"
    },
    {
     "data": {
      "image/png": "[encoded data removed]",
      "text/plain": [
       "<Figure size 1080x720 with 9 Axes>"
      ]
     },
     "metadata": {
      "needs_background": "light"
     },
     "output_type": "display_data"
    }
   ],
   "source": [
    "# Scatter plot of the full data \n",
    "scatter_matrix(df,figsize = (15,10))"
   ]
  },
  {
   "cell_type": "code",
   "execution_count": 52,
   "metadata": {
    "scrolled": true
   },
   "outputs": [
    {
     "data": {
      "text/plain": [
       "BG_Result               AxesSubplot(0.125,0.125;0.133621x0.755)\n",
       "Insulin_Delivered    AxesSubplot(0.285345,0.125;0.133621x0.755)\n",
       "Carb_Input            AxesSubplot(0.44569,0.125;0.133621x0.755)\n",
       "dtype: object"
      ]
     },
     "execution_count": 52,
     "metadata": {},
     "output_type": "execute_result"
    },
    {
     "data": {
      "text/plain": [
       "<Figure size 1080x720 with 0 Axes>"
      ]
     },
     "metadata": {},
     "output_type": "display_data"
    },
    {
     "data": {
      "image/png": "[encoded data removed]",
      "text/plain": [
       "<Figure size 1080x720 with 5 Axes>"
      ]
     },
     "metadata": {
      "needs_background": "light"
     },
     "output_type": "display_data"
    }
   ],
   "source": [
    "# Box plot showing in depth details of different statical pointers\n",
    "plt.figure(figsize = (15,10))\n",
    "df.plot(kind='box', subplots = True, layout = (1,5), sharex = False, sharey = False, title='Summary Box Plot', figsize = (15,10))"
   ]
  },
  {
   "cell_type": "code",
   "execution_count": 1,
   "metadata": {},
   "outputs": [],
   "source": [
    "# Plotting the normal distribution of Carbohydrates to calculate the rise in the blood glucose "
   ]
  },
  {
   "cell_type": "markdown",
   "metadata": {},
   "source": [
    "# Reference\n",
    "\n",
    "https://carelink.minimed.eu/patient/main/proReports.do\n",
    "\n",
    "http://en.wikipedia.org/wiki/Normal_distribution\n",
    "\n",
    "https://www.webmd.com/diabetes/qa/what-are-normal-blood-sugar-levels\n",
    "\n"
   ]
  }
 ],
 "metadata": {
  "kernelspec": {
   "display_name": "Python 3",
   "language": "python",
   "name": "python3"
  },
  "language_info": {
   "codemirror_mode": {
    "name": "ipython",
    "version": 3
   },
   "file_extension": ".py",
   "mimetype": "text/x-python",
   "name": "python",
   "nbconvert_exporter": "python",
   "pygments_lexer": "ipython3",
   "version": "3.7.1"
  }
 },
 "nbformat": 4,
 "nbformat_minor": 2
}
